{
  "nbformat": 4,
  "nbformat_minor": 0,
  "metadata": {
    "colab": {
      "provenance": [],
      "include_colab_link": true
    },
    "kernelspec": {
      "name": "python3",
      "display_name": "Python 3"
    },
    "language_info": {
      "name": "python"
    }
  },
  "cells": [
    {
      "cell_type": "markdown",
      "metadata": {
        "id": "view-in-github",
        "colab_type": "text"
      },
      "source": [
        "<a href=\"https://colab.research.google.com/github/SJcodeML/python-all-topics-/blob/main/Agentic_AI_Traditional_Python_Lesson_13_OOP_Objects_%26_Classes_Part_2.ipynb\" target=\"_parent\"><img src=\"https://colab.research.google.com/assets/colab-badge.svg\" alt=\"Open In Colab\"/></a>"
      ]
    },
    {
      "cell_type": "markdown",
      "source": [
        "<font color=\"#a9a56c\" size=2> **@Author: Arif Kasim Rozani - (Team Operation Badar)** </font>\n"
      ],
      "metadata": {
        "id": "38_QpUXJOAII"
      }
    },
    {
      "cell_type": "markdown",
      "source": [
        "\n",
        "# **11. Class and Static Variables**\n",
        "\n",
        "Class and static variables are used to store data that is related to the class itself, rather than to instances of the class. They offer a way to share data and behavior across all instances.\n",
        "\n",
        "## **Difference between Class and Static Variables**\n",
        "\n",
        "While the terms are often used **`interchangeably`** in Python, class variables are the preferred terminology. These variables are defined within the class but outside of any method.\n",
        "\n",
        "  * **Class variables:** These are associated with the class itself and are shared among all instances of the class. They are defined within the class but outside of any method.\n",
        "\n",
        "  * **Instance variables:** These are unique to each object or instance of the class.\n"
      ],
      "metadata": {
        "id": "BGk8wqpCwkfz"
      }
    },
    {
      "cell_type": "markdown",
      "source": [
        "## **Accessing and Modifying Class Variables**\n",
        "\n",
        "Class variables can be accessed and modified using the class name or an instance of the class.\n",
        "\n",
        "  * **Accessing**: Class variables are accessed using the class name directly (e.g., ClassName.variable_name) or through an instance of the class (e.g., instance_name.variable_name).\n",
        "\n",
        "  * **Modifying**: When modifying a class variable through an instance, you are actually creating a new instance variable that shadows the class variable for that particular instance. To modify the class variable itself, you should use the class name.\n",
        "\n",
        "\n",
        "## **Example: Working with Class and Static Variables**"
      ],
      "metadata": {
        "id": "-Txj8QSwxkka"
      }
    },
    {
      "cell_type": "code",
      "source": [
        "class Bakery:\n",
        "    type = \"cake\"  # Class variable\n",
        "\n",
        "    def __init__(self, flavor, price):\n",
        "        self.flavor = flavor  # Instance variable\n",
        "        self.price = price    # Instance variable\n",
        "\n",
        "    def update_cake_count(cls, count):\n",
        "        cls.cake_count = count\n",
        "\n",
        "#Accessing\n",
        "print(Bakery.type)\n",
        "\n",
        "cake1 = Bakery(\"Chocolate\", 25.00)\n",
        "cake2 = Bakery(\"Vanilla\", 22.00)\n",
        "\n",
        "print(cake1.flavor)\n",
        "print(cake2.price)\n",
        "\n",
        "#Modifying\n",
        "Bakery.type = \"pastry\"\n",
        "print(cake1.type)\n",
        "\n",
        "cake1.type = \"cookie\"\n",
        "print(cake1.type)\n",
        "print(cake2.type)\n"
      ],
      "metadata": {
        "colab": {
          "base_uri": "https://localhost:8080/"
        },
        "id": "dtfJobCFyEZa",
        "outputId": "5b651e67-ec59-4639-9fd8-5cad5d23b073"
      },
      "execution_count": null,
      "outputs": [
        {
          "output_type": "stream",
          "name": "stdout",
          "text": [
            "cake\n",
            "Chocolate\n",
            "22.0\n",
            "pastry\n",
            "cookie\n",
            "pastry\n"
          ]
        }
      ]
    },
    {
      "cell_type": "markdown",
      "source": [
        "## **Key Differences Summarized**\n",
        "\n",
        "\n",
        "| Feature      | Class Variable                                            | Instance Variable                          |   |\n",
        "|--------------|-----------------------------------------------------------|--------------------------------------------|---|\n",
        "| Scope        | Shared by all instances of the class                      | Unique to each instance of the class       |   |\n",
        "| Creation     | Created when the class is defined                         | Created when an object is instantiated     |   |\n",
        "| Access       | Accessed using the class name or instance name            | Accessed through an instance of the class  |   |\n",
        "| Modification | Modified using the class name                             | Modified through a specific instance       |   |\n",
        "| Use Cases    | Maintain values common to all instances, track statistics | Store object-specific data                 "
      ],
      "metadata": {
        "id": "v6IKcUnqyKi3"
      }
    },
    {
      "cell_type": "markdown",
      "source": [
        "Understanding the distinction between class and instance variables is crucial for effective object-oriented programming in Python. Class variables provide a way to share data and behavior across all instances of a class, while instance variables allow each object to have its own unique state."
      ],
      "metadata": {
        "id": "fVh8oNn3zeRO"
      }
    },
    {
      "cell_type": "markdown",
      "source": [
        "# **12. Composition and Aggregation**"
      ],
      "metadata": {
        "id": "6574SKpN2kBm"
      }
    },
    {
      "cell_type": "markdown",
      "source": [
        "Composition and aggregation are both ways to relate classes in object-oriented programming, focusing on how objects contain or interact with each other.\n",
        "\n",
        "## **What is Composition?** (*Strong Relationship*)\n",
        "\n",
        "Composition is a **\"has-a\"** relationship where one object contains another, and the contained object's lifecycle is dependent on the container object.**If the container object is destroyed, the contained object is also destroyed**. **It's a strong relationship, like a car and its engine; the car cannot function without the engine, and the engine is intrinsically part of the car.** Composition involves building complex objects by combining simpler ones.\n",
        "\n",
        "\n",
        "## **What is Aggregation?** (*Weak Relationship*)\n",
        "\n",
        "**Aggregation is also a \"has-a\" relationship, but it represents a weaker association than composition.** **In aggregation, the contained object can exist independently of the container object. It's like a university and its departments; the university contains departments, but the departments can exist even if the university ceases to exist.**\n",
        "\n",
        "\n",
        "## **Difference Between Composition and Inheritance**"
      ],
      "metadata": {
        "id": "IYN0qJbF2rtO"
      }
    },
    {
      "cell_type": "markdown",
      "source": [
        "Composition and inheritance are both mechanisms for code reuse in OOP, but they differ significantly:\n",
        "\n",
        "  * **Relationship**: Composition is a \"has-a\" relationship, while inheritance is an \"is-a\" relationship.\n",
        "\n",
        "  * **Flexibility**: Composition offers more flexibility than inheritance. You can easily change or replace components without affecting the entire system.\n",
        "  * **Coupling**: Composition reduces coupling between classes, making the code easier to maintain and understand. Inheritance can lead to tight coupling, code duplication, and other problems.\n",
        "  * **Reuse**: Composition reuses code by combining objects, while inheritance reuses code by inheriting properties and methods from parent classes.\n",
        "\n",
        "\n",
        "Composition allows for independent modification and replacement of components, promoting cleaner code design. Inheritance has its place, but composition should be preferred.\n",
        "\n",
        "## **Example: Implementing Composition and Aggregation**"
      ],
      "metadata": {
        "id": "8E6yLOCk3P-G"
      }
    },
    {
      "cell_type": "code",
      "source": [
        "# Composition\n",
        "class Engine:\n",
        "    def start(self):\n",
        "        return \"Engine starting\"\n",
        "\n",
        "class Car:\n",
        "    def __init__(self):\n",
        "        self.engine = Engine()  # Composition: Car *has-a* Engine, and owns it\n",
        "\n",
        "    def start(self):\n",
        "        return f\"Car starting: {self.engine.start()}\"\n",
        "\n",
        "# Aggregation\n",
        "class Department:\n",
        "    def __init__(self, name):\n",
        "        self.name = name\n",
        "\n",
        "class University:\n",
        "    def __init__(self, name):\n",
        "        self.name = name\n",
        "        self.departments = []  # University *has-a* Department, but doesn't own it\n",
        "\n",
        "    def add_department(self, department):\n",
        "        self.departments.append(department)\n"
      ],
      "metadata": {
        "id": "jovrrfHJ3n_e"
      },
      "execution_count": null,
      "outputs": []
    },
    {
      "cell_type": "markdown",
      "source": [
        "In this example:\n",
        "\n",
        "  * Car and Engine demonstrate composition. The Car class creates and owns an instance of the Engine class. If the Car object is destroyed, the Engine object is also destroyed.\n",
        "\n",
        "  * University and Department demonstrate aggregation. The University class contains a list of Department objects, but the Department objects can exist independently of the University object. The university does not exclusively own the Department."
      ],
      "metadata": {
        "id": "oIX844dt3tE9"
      }
    },
    {
      "cell_type": "markdown",
      "source": [
        "# **13. Method Resolution Order (MRO)**\n",
        "\n",
        "**Method Resolution Order (MRO)** is the order in which Python searches for methods and attributes in a class hierarchy, especially in cases of multiple inheritance. It ensures that the correct method or attribute is found and called when there are overlapping names in the inheritance tree."
      ],
      "metadata": {
        "id": "408uEHx_cyAW"
      }
    },
    {
      "cell_type": "markdown",
      "source": [
        "## **The mro() Method**\n",
        "\n",
        "The mro() method is a built-in method in Python that returns a list of classes in the order they will be searched for attributes and methods. This list represents the **linearization** of the class hierarchy."
      ],
      "metadata": {
        "id": "Ofl9hWspc5Lc"
      }
    },
    {
      "cell_type": "markdown",
      "source": [
        "## **How Python Resolves Method Calls in Multiple Inheritance**\n",
        "\n",
        "Python uses the **C3 Linearization algorithm** to determine the MRO. This algorithm ensures that:\n",
        "\n",
        "  1.  Subclasses come before their parent classes.\n",
        "  2.  The order of inheritance is preserved.\n",
        "  3.  No class is visited more than once."
      ],
      "metadata": {
        "id": "MpMJzPHEdCbs"
      }
    },
    {
      "cell_type": "markdown",
      "source": [
        "## **Example: Understanding MRO in Python**\n",
        "\n",
        "Let’s create a class hierarchy with multiple inheritance to demonstrate how MRO works."
      ],
      "metadata": {
        "id": "tNRIV1zGdPT0"
      }
    },
    {
      "cell_type": "code",
      "source": [
        "# Define the classes\n",
        "class A:\n",
        "    def greet(self):\n",
        "        return \"Hello from A\"\n",
        "\n",
        "class B(A):\n",
        "    def greet(self):\n",
        "        return \"Hello from B\"\n",
        "\n",
        "class C(A):\n",
        "    def greet(self):\n",
        "        return \"Hello from C\"\n",
        "\n",
        "class D(B, C):\n",
        "    pass\n",
        "\n",
        "# Create an instance of D\n",
        "d = D()\n",
        "\n",
        "# Check the MRO of class D\n",
        "print(D.mro())  # Output: [<class '__main__.D'>, <class '__main__.B'>, <class '__main__.C'>, <class '__main__.A'>, <class 'object'>]\n",
        "\n",
        "# Call the greet method\n",
        "print(d.greet())  # Output: Hello from B"
      ],
      "metadata": {
        "colab": {
          "base_uri": "https://localhost:8080/"
        },
        "id": "qJHLLxvldR-D",
        "outputId": "20b7b4fa-569e-4e4c-81bd-1aeb7810c6ef"
      },
      "execution_count": null,
      "outputs": [
        {
          "output_type": "stream",
          "name": "stdout",
          "text": [
            "[<class '__main__.D'>, <class '__main__.B'>, <class '__main__.C'>, <class '__main__.A'>, <class 'object'>]\n",
            "Hello from B\n"
          ]
        }
      ]
    },
    {
      "cell_type": "markdown",
      "source": [
        "## **Explanation of the Code**\n",
        "\n",
        "  1.  **Class Hierarchy:**\n",
        "\n",
        "    * A is the parent class of both B and C.\n",
        "    * D inherits from both B and C.\n",
        "\n",
        "\n",
        "\n",
        "2.  **MRO of Class D:**\n",
        "      The mro() method returns the order in which Python will search for methods and attributes in class D:\n",
        "      [D, B, C, A, object]\n",
        "\n",
        "3.  **Method Call Resolution:**\n",
        "  When d.greet() is called, Python searches for the greet method in the following order:\n",
        "    * First in D: Not found.\n",
        "    * Then in B: Found! The greet method of B is called, and the search stops."
      ],
      "metadata": {
        "id": "Zqv149ucdg-r"
      }
    },
    {
      "cell_type": "markdown",
      "source": [
        "## **Visualizing MRO**\n",
        "\n",
        "The MRO for class D can be visualized as a linear sequence:\n",
        "D → B → C → A → object"
      ],
      "metadata": {
        "id": "EzuEQ71Cd-p7"
      }
    },
    {
      "cell_type": "markdown",
      "source": [
        "## **Example with Diamond Inheritance**\n",
        "\n",
        "Let’s create a more complex example with diamond inheritance to further illustrate MRO."
      ],
      "metadata": {
        "id": "yIuhZP4WeH2S"
      }
    },
    {
      "cell_type": "code",
      "source": [
        "# Define the classes\n",
        "class X:\n",
        "    def greet(self):\n",
        "        return \"Hello from X\"\n",
        "\n",
        "class Y(X):\n",
        "    def greet(self):\n",
        "        return \"Hello from Y\"\n",
        "\n",
        "class Z(X):\n",
        "    def greet(self):\n",
        "        return \"Hello from Z\"\n",
        "\n",
        "class W(Y, Z):\n",
        "    pass\n",
        "\n",
        "# Create an instance of W\n",
        "w = W()\n",
        "\n",
        "# Check the MRO of class W\n",
        "print(W.mro())  # Output: [<class '__main__.W'>, <class '__main__.Y'>, <class '__main__.Z'>, <class '__main__.X'>, <class 'object'>]\n",
        "\n",
        "# Call the greet method\n",
        "print(w.greet())  # Output: Hello from Y"
      ],
      "metadata": {
        "colab": {
          "base_uri": "https://localhost:8080/"
        },
        "id": "oeKzdXGceLqL",
        "outputId": "20c2b400-4c82-4d76-b804-8b5e647a7655"
      },
      "execution_count": null,
      "outputs": [
        {
          "output_type": "stream",
          "name": "stdout",
          "text": [
            "[<class '__main__.W'>, <class '__main__.Y'>, <class '__main__.Z'>, <class '__main__.X'>, <class 'object'>]\n",
            "Hello from Y\n"
          ]
        }
      ]
    },
    {
      "cell_type": "markdown",
      "source": [
        "## **Explanation of the Code**\n",
        "\n",
        "1.  Class Hierarchy:\n",
        "    * X is the parent class of both Y and Z.\n",
        "    * W inherits from both Y and Z.\n",
        "\n",
        "2.  MRO of Class W:\n",
        "\n",
        "    The mro() method returns the order in which Python will search for methods and attributes in class W:\n",
        "    [W, Y, Z, X, object]\n",
        "Method Call Resolution:\n",
        "When w.greet() is called, Python searches for the greet method in the following order:\n",
        "\n",
        "    * First in W: Not found.\n",
        "    * Then in Y: Found! The greet method of Y is called, and the search stops."
      ],
      "metadata": {
        "id": "MLUZjyadeaYC"
      }
    },
    {
      "cell_type": "markdown",
      "source": [
        "## **Key Takeaways**\n",
        "\n",
        "  * **Method Resolution Order (MRO)** is the order in which Python searches for methods and attributes in a class hierarchy.\n",
        "\n",
        "  * The mro() method returns the linearization of the class hierarchy.\n",
        "Python uses the **C3 Linearization algorithm** to determine the MRO, ensuring consistency and avoiding conflicts in multiple inheritance.\n",
        "\n",
        "  * Understanding MRO is crucial for debugging and designing complex class hierarchies.\n",
        "\n",
        "This example demonstrates how MRO works in Python, especially in cases of multiple inheritance. 🚀\n",
        "\n",
        "\n",
        "---\n",
        "\n"
      ],
      "metadata": {
        "id": "cNZ_yEuuexEy"
      }
    },
    {
      "cell_type": "markdown",
      "source": [
        "[The Veiled Virgin](https://en.wikipedia.org/wiki/The_Veiled_Virgin)"
      ],
      "metadata": {
        "id": "dl4WGH_vb4mn"
      }
    },
    {
      "cell_type": "markdown",
      "source": [
        "![Veiled_virgin.jpg](data:image/jpeg;base64,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)"
      ],
      "metadata": {
        "id": "ubFBARXkbqv6"
      }
    },
    {
      "cell_type": "markdown",
      "source": [
        "<font color=orange>The Veiled Virgin looks like it’s wearing a soft veil, but it’s all carved from one solid rock—just like a decorator adds something extra to a function without changing it. The function stays the same underneath, but the decorator adds a special effect. It’s like dressing up your code without touching its heart.</font>\n",
        "\n",
        "\n",
        "\n",
        "\n",
        "\n",
        "\n"
      ],
      "metadata": {
        "id": "wHuPovIgc-RB"
      }
    },
    {
      "cell_type": "markdown",
      "source": [
        "# **14. Decorators in Classes**\n",
        "\n",
        "Decorators in Python are a powerful feature that allows you to modify or extend the behavior of functions or methods. When applied to classes, decorators can enhance or alter the behavior of the class or its methods. Additionally, Python provides specific property decorators (@property, @setter, and @deleter) to manage attribute access in a controlled way."
      ],
      "metadata": {
        "id": "fR0DihIrfbpK"
      }
    },
    {
      "cell_type": "markdown",
      "source": [
        "## **Class Decorators**\n",
        "\n",
        "A **class decorator** is a function that takes a class as input and returns a modified or extended version of the class. It’s often used to add functionality, enforce constraints, or modify class behavior."
      ],
      "metadata": {
        "id": "7-JfxqL1fnTz"
      }
    },
    {
      "cell_type": "markdown",
      "source": [
        "## **Property Decorators**\n",
        "\n",
        "The **@property decorator** is used to define a method as a **getter** for a class attribute. It allows you to access the attribute like a property rather than a method. You can also define setter and **deleter** methods using the @setter and @deleter decorators, respectively."
      ],
      "metadata": {
        "id": "90yUMeHKfslX"
      }
    },
    {
      "cell_type": "markdown",
      "source": [
        "## **Example: Using Decorators in Classes**\n",
        "\n",
        "Let’s create examples to demonstrate class decorators and property decorators."
      ],
      "metadata": {
        "id": "ABsoX5e1f0mZ"
      }
    },
    {
      "cell_type": "code",
      "source": [
        "class CountCalls:\n",
        "    def __init__(self, func):\n",
        "        self.func = func\n",
        "        self.call_count = 0\n",
        "\n",
        "    def __call__(self, *args, **kwargs):\n",
        "        self.call_count += 1\n",
        "        print(f\"Decorator: Call {self.call_count} of {self.func.__name__}\")\n",
        "        return self.func(*args, **kwargs)\n",
        "\n",
        "@CountCalls\n",
        "def say_hello(name):\n",
        "    print(f\"Hello, {name}!\")\n",
        "\n",
        "say_hello(\"Alice\")\n",
        "say_hello(\"Bob\")\n"
      ],
      "metadata": {
        "colab": {
          "base_uri": "https://localhost:8080/"
        },
        "id": "G77ZLTFJiAx3",
        "outputId": "c93fdaf1-20e5-49ad-d4f8-a432f8f18572"
      },
      "execution_count": null,
      "outputs": [
        {
          "output_type": "stream",
          "name": "stdout",
          "text": [
            "Decorator: Call 1 of say_hello\n",
            "Hello, Alice!\n",
            "Decorator: Call 2 of say_hello\n",
            "Hello, Bob!\n"
          ]
        }
      ]
    },
    {
      "cell_type": "markdown",
      "source": [
        "In this example, `CountCalls` is a class decorator that counts the number of times a function is called. The `@CountCalls` syntax above the say_hello function applies the CountCalls decorator to it. Each time say_hello is called, the \\_\\_call\\_\\_ method of CountCalls is executed, incrementing the call_count and printing a message."
      ],
      "metadata": {
        "id": "e2CIA3dFifjX"
      }
    },
    {
      "cell_type": "code",
      "source": [
        "# Define a class decorator\n",
        "def add_greeting(cls):\n",
        "    def greet(self):\n",
        "        return f\"Decorator: Hello from {self.__class__.__name__} | \", self.name\n",
        "    cls.greet = greet\n",
        "    return cls\n",
        "\n",
        "# Apply the decorator to a class\n",
        "@add_greeting\n",
        "class Person:\n",
        "    def __init__(self, name):\n",
        "        self.name = name\n",
        "\n",
        "# Create an instance of the decorated class\n",
        "person = Person(\"Alice\")\n",
        "print(person.greet())  # Output: Hello from Person"
      ],
      "metadata": {
        "colab": {
          "base_uri": "https://localhost:8080/"
        },
        "id": "Lg31nUIqf5g-",
        "outputId": "acba1b4e-708c-45a3-a8f8-e9b2193ec7b6"
      },
      "execution_count": null,
      "outputs": [
        {
          "output_type": "stream",
          "name": "stdout",
          "text": [
            "('Decorator: Hello from Person | ', 'Alice')\n"
          ]
        }
      ]
    },
    {
      "cell_type": "markdown",
      "source": [
        "## **Property Decorator Example**"
      ],
      "metadata": {
        "id": "RJEiANZ0gDhq"
      }
    },
    {
      "cell_type": "markdown",
      "source": [
        "The `@property` decorator lets you **control** how an attribute is **accessed, set, or deleted** in a class.  \n",
        "It allows you to **add logic** (like validation or calculations) while still making it look like a simple attribute.\n",
        "\n",
        "----------\n",
        "\n",
        "### **1️⃣ Basic Getter (Read-Only Property)**\n",
        "\n",
        "-   **Turns a method into a \"getter\"** (like reading an attribute).\n",
        "-   **No parentheses needed!**\n",
        "\n",
        "#### **Example: Get a value**"
      ],
      "metadata": {
        "id": "KABPdm3RvGnD"
      }
    },
    {
      "cell_type": "code",
      "source": [
        "class Person:\n",
        "    def __init__(self, name):\n",
        "        self._name = name  # Internal variable (convention: `_name`)\n",
        "\n",
        "    @property\n",
        "    def name(self):\n",
        "        \"\"\"Getter for name\"\"\"\n",
        "        return self._name\n",
        "\n",
        "# Usage\n",
        "p = Person(\"Alice\")\n",
        "print(p.name)  # Like an attribute (no parentheses!)"
      ],
      "metadata": {
        "colab": {
          "base_uri": "https://localhost:8080/"
        },
        "id": "HCdqNp6WvUpi",
        "outputId": "ceafc700-3898-4475-9d2c-5193af68433b"
      },
      "execution_count": null,
      "outputs": [
        {
          "output_type": "stream",
          "name": "stdout",
          "text": [
            "Alice\n"
          ]
        }
      ]
    },
    {
      "cell_type": "markdown",
      "source": [
        "\n",
        "➡️ `name` acts like an attribute, but it's a method!\n",
        "\n",
        "----------\n",
        "\n",
        "### **2️⃣ Setter (Change a Value with Validation)**\n",
        "\n",
        "-   **`@prop_name.setter`** lets you **modify** the attribute.\n",
        "-   **Add checks before setting!**\n",
        "\n",
        "#### **Example: Set with validation**"
      ],
      "metadata": {
        "id": "3ba69XhmvbpJ"
      }
    },
    {
      "cell_type": "code",
      "source": [
        "class Person:\n",
        "    def __init__(self, name):\n",
        "        self._name = name\n",
        "\n",
        "    @property\n",
        "    def name(self):\n",
        "        return self._name\n",
        "\n",
        "    @name.setter\n",
        "    def name(self, new_name):\n",
        "        if not isinstance(new_name, str):\n",
        "            raise ValueError(\"Name must be a string!\")\n",
        "        self._name = new_name\n",
        "\n",
        "# Usage\n",
        "p = Person(\"Bob\")\n",
        "p.name = \"Charlie\"  # Works\n",
        "print(p.name)  # Output: Charlie\n",
        "\n",
        "#p.name = 123  # ❌ Error! (ValueError: Name must be a string!) # uncomment to see error"
      ],
      "metadata": {
        "colab": {
          "base_uri": "https://localhost:8080/"
        },
        "id": "lnDqiXf1vdpS",
        "outputId": "80ae03cb-b1c0-4443-9841-c8d52a63bc59"
      },
      "execution_count": null,
      "outputs": [
        {
          "output_type": "stream",
          "name": "stdout",
          "text": [
            "Charlie\n"
          ]
        }
      ]
    },
    {
      "cell_type": "markdown",
      "source": [
        "\n",
        "### **3️⃣ Deleter (Remove an Attribute)**\n",
        "\n",
        "-   **`@prop_name.deleter`** runs when you `del obj.prop`.\n",
        "-   **Used for cleanup.**\n",
        "\n",
        "#### **Example: Delete safely**"
      ],
      "metadata": {
        "id": "OLiIPoQmvwfr"
      }
    },
    {
      "cell_type": "code",
      "source": [
        "class Person:\n",
        "    def __init__(self, name):\n",
        "        self._name = name\n",
        "\n",
        "    @property\n",
        "    def name(self):\n",
        "        return self._name\n",
        "\n",
        "    @name.deleter\n",
        "    def name(self):\n",
        "        print(\"Deleting name!\")\n",
        "        del self._name\n",
        "\n",
        "# Usage\n",
        "p = Person(\"Dave\")\n",
        "print(p.name)  # Output: Dave\n",
        "\n",
        "del p.name  # Runs deleter\n",
        "#print(p.name)  # ❌ Error! (AttributeError: 'Person' has no attribute '_name') # uncomment to see error"
      ],
      "metadata": {
        "colab": {
          "base_uri": "https://localhost:8080/"
        },
        "id": "YXXtT1j4vzh5",
        "outputId": "e3a1c594-47de-4ba9-fa13-4cac8315f84b"
      },
      "execution_count": null,
      "outputs": [
        {
          "output_type": "stream",
          "name": "stdout",
          "text": [
            "Dave\n",
            "Deleting name!\n"
          ]
        }
      ]
    },
    {
      "cell_type": "markdown",
      "source": [
        "\n",
        "### **4️⃣ Computed Property (Dynamic Value)**\n",
        "\n",
        "-   **Calculate a value on the fly!**\n",
        "\n",
        "#### **Example: Get BMI from height & weight**"
      ],
      "metadata": {
        "id": "C1Jtm2ZTwAj4"
      }
    },
    {
      "cell_type": "code",
      "source": [
        "class Person:\n",
        "    def __init__(self, weight_kg, height_m):\n",
        "        self.weight = weight_kg\n",
        "        self.height = height_m\n",
        "\n",
        "    @property\n",
        "    def bmi(self):\n",
        "        \"\"\"Body Mass Index (weight / height²)\"\"\"\n",
        "        return self.weight / (self.height ** 2)\n",
        "\n",
        "# Usage\n",
        "p = Person(70, 1.75)  # 70kg, 1.75m\n",
        "print(p.bmi)  # Output: 22.857..."
      ],
      "metadata": {
        "colab": {
          "base_uri": "https://localhost:8080/"
        },
        "id": "-1K3qzk7wCtx",
        "outputId": "6b2ccd05-d5ca-4abe-aa32-22127c646c42"
      },
      "execution_count": null,
      "outputs": [
        {
          "output_type": "stream",
          "name": "stdout",
          "text": [
            "22.857142857142858\n"
          ]
        }
      ]
    },
    {
      "cell_type": "markdown",
      "source": [
        "➡️ **No `bmi.setter` → You can't change `bmi` directly!**\n",
        "\n",
        "----------\n",
        "\n",
        "### **🔥 Summary Table**"
      ],
      "metadata": {
        "id": "iMqmFpnXwT_R"
      }
    },
    {
      "cell_type": "markdown",
      "source": [
        "| Task           | Syntax                            | Example      |   |\n",
        "|----------------|-----------------------------------|--------------|---|\n",
        "| Get a value    | @property def x(self):            | print(obj.x) |   |\n",
        "| Set a value    | @x.setter def x(self, value):     | obj.x = 10   |   |\n",
        "| Delete a value | @x.deleter def x(self):           | del obj.x    |   |\n",
        "| Computed value | @property def y(self): return ... | print(obj.y) |   |"
      ],
      "metadata": {
        "id": "fdpl4Kbtwd3R"
      }
    },
    {
      "cell_type": "markdown",
      "source": [
        "\n",
        "----------\n",
        "\n",
        "### **✅ When to Use `@property`**\n",
        "\n",
        "✔ **Add validation** (e.g., check if age ≥ 0).  \n",
        "✔ **Make read-only attributes** (like `bmi`).  \n",
        "✔ **Hide internal variables** (use `_name` instead of `name`).  \n",
        "✔ **Change how attributes work without breaking existing code.**\n",
        "\n",
        "----------\n",
        "\n",
        "### **Final Example (Temperature Converter 🌡️)**"
      ],
      "metadata": {
        "id": "zWptu-tYwiUB"
      }
    },
    {
      "cell_type": "code",
      "source": [
        "class Temperature:\n",
        "    def __init__(self, celsius):\n",
        "        self._celsius = celsius\n",
        "\n",
        "    @property\n",
        "    def celsius(self):\n",
        "        return self._celsius\n",
        "\n",
        "    @property\n",
        "    def fahrenheit(self):\n",
        "        return (self._celsius * 9/5) + 32\n",
        "\n",
        "    @fahrenheit.setter\n",
        "    def fahrenheit(self, value):\n",
        "        self._celsius = (value - 32) * 5/9\n",
        "\n",
        "# Usage\n",
        "temp = Temperature(0)  # 0°C\n",
        "print(temp.fahrenheit)  # 32°F"
      ],
      "metadata": {
        "colab": {
          "base_uri": "https://localhost:8080/"
        },
        "id": "8qNlAIMJwrrh",
        "outputId": "e8bdfacc-b782-487c-85ec-2f190731b427"
      },
      "execution_count": null,
      "outputs": [
        {
          "output_type": "stream",
          "name": "stdout",
          "text": [
            "32.0\n"
          ]
        }
      ]
    },
    {
      "cell_type": "code",
      "source": [
        "temp.fahrenheit = 100  # Set in °F → auto-converts to °C\n",
        "print(temp.celsius)    # 37.777...°C\n",
        "print(temp.fahrenheit)"
      ],
      "metadata": {
        "colab": {
          "base_uri": "https://localhost:8080/"
        },
        "id": "7aB9LzBQeZi-",
        "outputId": "dee94889-0cce-4157-e7cd-72446ed945e7"
      },
      "execution_count": null,
      "outputs": [
        {
          "output_type": "stream",
          "name": "stdout",
          "text": [
            "37.77777777777778\n",
            "100.0\n"
          ]
        }
      ]
    },
    {
      "cell_type": "markdown",
      "source": [
        "\n",
        "➡️ **Smooth conversion between Celsius & Fahrenheit!**\n",
        "\n",
        "----------\n",
        "\n",
        "## **🎯 Key Takeaway**\n",
        "\n",
        "`@property` makes your code **cleaner & safer** by letting you control attribute access **without changing how users interact with your class!** 🚀"
      ],
      "metadata": {
        "id": "M9QpJUGwwxPJ"
      }
    },
    {
      "cell_type": "markdown",
      "source": [
        "\n",
        "\n",
        "  * Python decorators are a **design pattern** that allows you to modify the functionality of a function by **wrapping** it in another function.\n",
        "\n",
        "  * **Class decorators** modify or extend the behavior of a class.\n",
        "  \n",
        "  * A decorator is a callable that returns a callable.\n",
        "\n",
        "    1.  **Callable:** In Python, \"callable\" refers to something that can be called like a function, using parentheses (). This includes functions themselves, but also objects that have a \\_\\_call__() method defined4.\n",
        "\n",
        "    2.  **Decorator Takes a Callable:** A decorator's primary job is to accept a function (or another callable) as an argument. This is the function it will modify or enhance.\n",
        "\n",
        "    3.  **Decorator Returns a Callable:** After processing the input callable (usually by wrapping it with some added functionality), the decorator must return another callable. This is usually a modified version of the original function.\n",
        "\n",
        "  * Decorators seem better suited to modify the functionality of an entire object (including function objects) versus the functionality of an object method which in general will depend on instance attributes.\n",
        "\n",
        "  * **Property decorators** (@property, @setter, @deleter) allow you to manage attribute access in a controlled way.\n",
        "  * The @property decorator defines a getter method for an attribute.\n",
        "  * The @setter decorator defines a setter method for an attribute.\n",
        "  * The @deleter decorator defines a deleter method for an attribute.\n",
        "\n",
        "\n",
        "**In essence, decorators are a way to modify or extend the behavior of functions or methods without changing their actual code. They achieve this by wrapping the original function within another function (the decorator).**\n",
        "\n",
        "This example demonstrates how to use decorators in Python classes effectively. 🚀"
      ],
      "metadata": {
        "id": "5gdLwqvdhJgR"
      }
    },
    {
      "cell_type": "markdown",
      "source": [
        "## **What is Callable**\n",
        "\n",
        "In Python, a `callable` is an object that can be called like a function. In other words, it's an object that can be invoked with parentheses `()` to execute some code.\n",
        "\n",
        "**Examples of callables:**\n",
        "\n",
        "1. **Functions**: These are the most obvious examples of callables. You can define a function using the `def` keyword and call it by its name followed by parentheses.\n",
        "\n",
        "2. **Lambda functions**: These are small, anonymous functions that can be defined inline.\n",
        "3. **Classes**: Yes, you can call a class like a function! When you do, it creates a new instance of the class.\n",
        "4. **Methods**: These are functions that are part of a class.\n",
        "5. **Instances of classes that implement `__call__`**: If a class defines a special method called `__call__`, instances of that class become callable.\n",
        "\n",
        "**What makes an object callable?**\n",
        "\n",
        "An object is callable if it has a `__call__` method. This method is a special method that's invoked when you call the object like a function.\n",
        "\n",
        "**Example:**"
      ],
      "metadata": {
        "id": "n2oz2QRJ2xEB"
      }
    },
    {
      "cell_type": "code",
      "source": [
        "class MyClass:\n",
        "    def __call__(self):\n",
        "        print(\"I'm callable!\")\n",
        "\n",
        "obj = MyClass()\n",
        "obj()  # Output: I'm callable!"
      ],
      "metadata": {
        "colab": {
          "base_uri": "https://localhost:8080/"
        },
        "id": "FU_PLF3B3H8Y",
        "outputId": "742614de-83df-4d1c-cbea-6e5c8ad5a314"
      },
      "execution_count": null,
      "outputs": [
        {
          "output_type": "stream",
          "name": "stdout",
          "text": [
            "I'm callable!\n"
          ]
        }
      ]
    },
    {
      "cell_type": "markdown",
      "source": [
        "In this example, `MyClass` defines a `__call__` method, so instances of `MyClass` become callable.\n",
        "\n",
        "**Checking if an object is callable**\n",
        "\n",
        "You can use the `callable()` function to check if an object is callable:"
      ],
      "metadata": {
        "id": "ZMAMna0d3Tpg"
      }
    },
    {
      "cell_type": "code",
      "source": [
        "def my_function():\n",
        "    pass\n",
        "\n",
        "print(callable(my_function))  # Output: True\n",
        "\n",
        "class MyClass:\n",
        "    def __call__(self):\n",
        "        pass\n",
        "\n",
        "obj = MyClass()\n",
        "print(callable(obj))  # Output: True\n",
        "\n",
        "print(callable(\"hello\"))  # Output: False"
      ],
      "metadata": {
        "colab": {
          "base_uri": "https://localhost:8080/"
        },
        "id": "_JSWJXFn3ZMw",
        "outputId": "14eebfd3-05c7-494c-fcf2-68236bd70098"
      },
      "execution_count": null,
      "outputs": [
        {
          "output_type": "stream",
          "name": "stdout",
          "text": [
            "True\n",
            "True\n",
            "False\n"
          ]
        }
      ]
    },
    {
      "cell_type": "markdown",
      "source": [
        "In this example, we define a function `my_function` and a class `MyClass` with a `__call__` method. We then create an instance of `MyClass` and check if each object is callable using `callable()`. The string \"hello\" is not callable, so `callable(\"hello\")` returns `False`.\n",
        "\n",
        "**Use cases for callables**\n",
        "\n",
        "Callables have many use cases, such as:\n",
        "\n",
        "* Creating higher-order functions that take other functions as arguments\n",
        "\n",
        "* Implementing callbacks or event handlers\n",
        "* Creating factories or constructors that return instances of classes\n",
        "* Creating domain-specific languages (DSLs) or mini-languages\n",
        "\n",
        "I hope this helps! Let me know if you have any questions or need further clarification."
      ],
      "metadata": {
        "id": "oTb0m3JV3k-H"
      }
    },
    {
      "cell_type": "markdown",
      "source": [
        "# **15. Working with Modules and Packages in OOP**\n",
        "\n",
        "Organizing your code into **modules** and **packages** is essential for maintaining clean, scalable, and maintainable code, especially in large projects. In Python, a **module** is a single file containing Python code (e.g., classes, functions, variables), and a **package** is a directory containing multiple modules and an \\_\\_init__.py file."
      ],
      "metadata": {
        "id": "JCrYdQ4Ak2aN"
      }
    },
    {
      "cell_type": "markdown",
      "source": [
        "## **Organizing Classes in Modules**\n",
        "\n",
        "To organize your classes effectively:\n",
        "\n",
        "  1.  Group related classes into a single module.\n",
        "  \n",
        "  2.  Use meaningful names for modules and classes.\n",
        "  3.  Avoid putting all classes in a single module (unless the project is very small)"
      ],
      "metadata": {
        "id": "r-XNmiHIlHLF"
      }
    },
    {
      "cell_type": "markdown",
      "source": [
        "## **Importing Classes from Modules**\n",
        "\n",
        "To use classes from one module in another:\n",
        "\n",
        "  1.  Use the import statement to import the entire module.\n",
        "\n",
        "  2.  Use from module import ClassName to import specific classes.\n",
        "  3.  Use from module import `*` to import all classes (not recommended for large projects)."
      ],
      "metadata": {
        "id": "S-K_LOZzlQbX"
      }
    },
    {
      "cell_type": "markdown",
      "source": [
        "## **Example: Structuring a Python Project Using OOP** (use VS Code / Cursor)\n",
        "\n",
        "Let’s create a simple project to demonstrate how to organize classes into modules and import them."
      ],
      "metadata": {
        "id": "2XcgHdUnlfbc"
      }
    },
    {
      "cell_type": "markdown",
      "source": [
        "## **Directory Structure**\n",
        "\n",
        "\n",
        "```\n",
        "my_project/\n",
        "│\n",
        "├── animals/\n",
        "│   ├── __init__.py\n",
        "│   ├── mammals.py\n",
        "│   └── birds.py\n",
        "│\n",
        "├── vehicles/\n",
        "│   ├── __init__.py\n",
        "│   ├── cars.py\n",
        "│   └── bikes.py\n",
        "│\n",
        "└── main.py\n",
        "```"
      ],
      "metadata": {
        "id": "Cp-0FBdLljmL"
      }
    },
    {
      "cell_type": "markdown",
      "source": [
        "## **Code for Each Module** (use Visual Studio Code / Cursor)\n",
        "\n",
        "  1.  **animals/mammals.py:**\n",
        "python"
      ],
      "metadata": {
        "id": "Hu0AE5zUlvWU"
      }
    },
    {
      "cell_type": "code",
      "source": [
        "class Dog:\n",
        "    def speak(self):\n",
        "        return \"Woof!\"\n",
        "\n",
        "class Cat:\n",
        "    def speak(self):\n",
        "        return \"Meow!\""
      ],
      "metadata": {
        "id": "dddCAoKQl418"
      },
      "execution_count": null,
      "outputs": []
    },
    {
      "cell_type": "markdown",
      "source": [
        "## 2.  **animals/birds.py:**"
      ],
      "metadata": {
        "id": "T2Xr4GoPl-6s"
      }
    },
    {
      "cell_type": "code",
      "source": [
        "class Parrot:\n",
        "    def speak(self):\n",
        "        return \"Squawk!\"\n",
        "\n",
        "class Sparrow:\n",
        "    def speak(self):\n",
        "        return \"Chirp!\""
      ],
      "metadata": {
        "id": "KRfZN_VFmCWd"
      },
      "execution_count": null,
      "outputs": []
    },
    {
      "cell_type": "markdown",
      "source": [
        "## **3.  vehicles/cars.py:**"
      ],
      "metadata": {
        "id": "85_LFxOXmPz9"
      }
    },
    {
      "cell_type": "code",
      "source": [
        "class Car:\n",
        "    def __init__(self, model):\n",
        "        self.model = model\n",
        "\n",
        "    def display(self):\n",
        "        return f\"Car: {self.model}\""
      ],
      "metadata": {
        "id": "baqoMMANmXXr"
      },
      "execution_count": null,
      "outputs": []
    },
    {
      "cell_type": "markdown",
      "source": [
        "## **4. vehicles/bikes.py:**"
      ],
      "metadata": {
        "id": "-B1xOozfmdv7"
      }
    },
    {
      "cell_type": "code",
      "source": [
        "class Bike:\n",
        "    def __init__(self, brand):\n",
        "        self.brand = brand\n",
        "\n",
        "    def display(self):\n",
        "        return f\"Bike: {self.brand}\""
      ],
      "metadata": {
        "id": "RkAq7JK5mkns"
      },
      "execution_count": null,
      "outputs": []
    },
    {
      "cell_type": "markdown",
      "source": [
        "## **5.  animals/__init__.py:**"
      ],
      "metadata": {
        "id": "x1EQ1uN5mvuU"
      }
    },
    {
      "cell_type": "code",
      "source": [
        "from .mammals import Dog, Cat\n",
        "from .birds import Parrot, Sparrow"
      ],
      "metadata": {
        "id": "wccrrINLmzqc"
      },
      "execution_count": null,
      "outputs": []
    },
    {
      "cell_type": "markdown",
      "source": [
        "## **6.  vehicles/__init__.py:**"
      ],
      "metadata": {
        "id": "DVeQbO6wm4uk"
      }
    },
    {
      "cell_type": "code",
      "source": [
        "from .cars import Car\n",
        "from .bikes import Bike"
      ],
      "metadata": {
        "id": "kMHrTDbXm7wt"
      },
      "execution_count": null,
      "outputs": []
    },
    {
      "cell_type": "markdown",
      "source": [
        "## **Code for main.py**"
      ],
      "metadata": {
        "id": "OC30eLOnnBlb"
      }
    },
    {
      "cell_type": "code",
      "source": [
        "from animals import Dog, Cat, Parrot, Sparrow\n",
        "from vehicles import Car, Bike\n",
        "\n",
        "# Create instances of animal classes\n",
        "dog = Dog()\n",
        "cat = Cat()\n",
        "parrot = Parrot()\n",
        "sparrow = Sparrow()\n",
        "\n",
        "# Call methods from animal classes\n",
        "print(dog.speak())  # Output: Woof!\n",
        "print(cat.speak())  # Output: Meow!\n",
        "print(parrot.speak())  # Output: Squawk!\n",
        "print(sparrow.speak())  # Output: Chirp!\n",
        "\n",
        "# Create instances of vehicle classes\n",
        "car = Car(\"Toyota Corolla\")\n",
        "bike = Bike(\"Harley Davidson\")\n",
        "\n",
        "# Call methods from vehicle classes\n",
        "print(car.display())  # Output: Car: Toyota Corolla\n",
        "print(bike.display())  # Output: Bike: Harley Davidson"
      ],
      "metadata": {
        "id": "wR4BcCMvnDck"
      },
      "execution_count": null,
      "outputs": []
    },
    {
      "cell_type": "markdown",
      "source": [
        "## **Explanation of the Code**\n",
        "\n",
        "  1.  **Module Organization:**\n",
        "\n",
        "  * Related classes are grouped into modules (mammals.py, birds.py, cars.py, bikes.py).\n",
        "\n",
        "  * The __init__.py files in the animals and vehicles directories make them packages and allow importing classes directly from the package.\n",
        "\n",
        "2.  **Importing Classes:**\n",
        "\n",
        "  * In main.py, classes are imported from their respective modules using from animals import Dog, Cat, Parrot, Sparrow and from vehicles import Car, Bike.\n",
        "\n",
        "  3.  **Using Classes:**\n",
        "  * Instances of the classes are created, and their methods are called in main.py."
      ],
      "metadata": {
        "id": "VU5qIXhqnH1j"
      }
    },
    {
      "cell_type": "markdown",
      "source": [
        "## **Output of the Code**"
      ],
      "metadata": {
        "id": "bzW4CAaBnmIj"
      }
    },
    {
      "cell_type": "markdown",
      "source": [
        "```\n",
        "Woof!\n",
        "Meow!\n",
        "Squawk!\n",
        "Chirp!\n",
        "Car: Toyota Corolla\n",
        "Bike: Harley Davidson\n",
        "```"
      ],
      "metadata": {
        "id": "2Us_-SC5nix7"
      }
    },
    {
      "cell_type": "markdown",
      "source": [
        "## **Key Takeaways**\n",
        "\n",
        "  * **Modules** are used to organize related classes, functions, and variables into a single file.\n",
        "\n",
        "  * **Packages** are directories containing multiple modules and an __init__.py file.\n",
        "  * Use the import statement or from module import ClassName to import classes from modules.\n",
        "  * Organizing your project into modules and packages improves readability, maintainability, and scalability.\n",
        "  \n",
        "This example demonstrates how to structure a Python project using OOP principles effectively. 🚀"
      ],
      "metadata": {
        "id": "akb1CjAMoENs"
      }
    },
    {
      "cell_type": "markdown",
      "source": [
        "# **16. Advanced OOP Concepts**\n",
        "\n",
        "In this section, we’ll explore some advanced Object-Oriented Programming (OOP) concepts in Python, including **metaclasses**, **design patterns** (Singleton and Factory), and how to implement them."
      ],
      "metadata": {
        "id": "OuJIeervo1IU"
      }
    },
    {
      "cell_type": "markdown",
      "source": [
        "## **1. Metaclasses**\n",
        "\n",
        "A metaclass is the class of a class. It defines how a class behaves. In Python, the default metaclass is type. You can create custom metaclasses to control class creation and behavior."
      ],
      "metadata": {
        "id": "hO7GpHTYpAFS"
      }
    },
    {
      "cell_type": "markdown",
      "source": [
        "## **2. Singleton Design Pattern**\n",
        "\n",
        "The Singleton pattern ensures that a class has only one instance and provides a global point of access to it. This is useful when you need to manage shared resources, such as a database connection or configuration settings."
      ],
      "metadata": {
        "id": "GynKBXLZpH2q"
      }
    },
    {
      "cell_type": "markdown",
      "source": [
        "## **3. Factory Design Pattern**\n",
        "\n",
        "The Factory pattern is a creational design pattern that provides an interface for creating objects in a superclass but allows subclasses to alter the type of objects that will be created. It promotes loose coupling and flexibility."
      ],
      "metadata": {
        "id": "_H8YaIw4pLjK"
      }
    },
    {
      "cell_type": "markdown",
      "source": [
        "## **To know more about Design Pattern please visit:**\n",
        "\n",
        "[The Catalog of Python Design Pattern Examples](https://refactoring.guru/design-patterns/python)\n",
        "\n",
        "[Gang of Four design patterns in Python](https://github.com/tuvo1106/python_design_patterns)\n",
        "\n",
        "[Gang of Four (GOF) Design Patterns](https://www.geeksforgeeks.org/gang-of-four-gof-design-patterns/)"
      ],
      "metadata": {
        "id": "onqIIiRdpoS5"
      }
    },
    {
      "cell_type": "markdown",
      "source": [
        "## **Example: Implementing Advanced OOP Concepts in Python**\n",
        "\n",
        "Let’s create examples to demonstrate metaclasses, the Singleton pattern, and the Factory pattern."
      ],
      "metadata": {
        "id": "fWxlFf7wrwyY"
      }
    },
    {
      "cell_type": "markdown",
      "source": [
        "## **Metaclass Example**"
      ],
      "metadata": {
        "id": "Rh8g5lujr0if"
      }
    },
    {
      "cell_type": "code",
      "source": [
        "# Custom metaclass\n",
        "class Meta(type):\n",
        "    def __new__(cls, name, bases, dct):\n",
        "        print(f\"Creating class: {name}\")\n",
        "        return super().__new__(cls, name, bases, dct)\n",
        "\n",
        "# Class using the custom metaclass\n",
        "class MyClass(metaclass=Meta):\n",
        "    pass\n",
        "\n",
        "# Output: Creating class: MyClass"
      ],
      "metadata": {
        "colab": {
          "base_uri": "https://localhost:8080/"
        },
        "id": "69HDFssYr254",
        "outputId": "b15a2599-98c0-4b0d-98f1-d27d07f977fd"
      },
      "execution_count": null,
      "outputs": [
        {
          "output_type": "stream",
          "name": "stdout",
          "text": [
            "Creating class: MyClass\n"
          ]
        }
      ]
    },
    {
      "cell_type": "markdown",
      "source": [
        "## **Singleton Design Pattern Example**"
      ],
      "metadata": {
        "id": "gL9Yppo4sADI"
      }
    },
    {
      "cell_type": "code",
      "source": [
        "class Singleton:\n",
        "    _instance = None\n",
        "\n",
        "    def __new__(cls, *args, **kwargs):\n",
        "        if cls._instance is None:\n",
        "            cls._instance = super().__new__(cls)\n",
        "        return cls._instance\n",
        "\n",
        "# Create instances of the Singleton class\n",
        "singleton1 = Singleton()\n",
        "singleton2 = Singleton()\n",
        "\n",
        "# Check if both instances are the same\n",
        "print(singleton1 is singleton2)  # Output: True\n",
        "print(id(singleton1) == id(singleton2))  # Output: True"
      ],
      "metadata": {
        "colab": {
          "base_uri": "https://localhost:8080/"
        },
        "id": "UrOglgljsBeP",
        "outputId": "19fad1e4-5150-4849-82f8-3698ff851349"
      },
      "execution_count": null,
      "outputs": [
        {
          "output_type": "stream",
          "name": "stdout",
          "text": [
            "True\n",
            "True\n"
          ]
        }
      ]
    },
    {
      "cell_type": "markdown",
      "source": [
        "## **Factory Design Pattern Example**"
      ],
      "metadata": {
        "id": "YIOP3DTNsP6n"
      }
    },
    {
      "cell_type": "code",
      "source": [
        "# Product interface\n",
        "class Animal:\n",
        "    def speak(self):\n",
        "        pass\n",
        "\n",
        "# Concrete products\n",
        "class Dog(Animal):\n",
        "    def speak(self):\n",
        "        return \"Woof!\"\n",
        "\n",
        "class Cat(Animal):\n",
        "    def speak(self):\n",
        "        return \"Meow!\"\n",
        "\n",
        "# Factory class\n",
        "class AnimalFactory:\n",
        "    @staticmethod\n",
        "    def create_animal(animal_type):\n",
        "        if animal_type == \"dog\":\n",
        "            return Dog()\n",
        "        elif animal_type == \"cat\":\n",
        "            return Cat()\n",
        "        else:\n",
        "            raise ValueError(\"Invalid animal type\")\n",
        "\n",
        "# Use the factory to create animals\n",
        "dog = AnimalFactory.create_animal(\"dog\")\n",
        "cat = AnimalFactory.create_animal(\"cat\")\n",
        "\n",
        "# Call the speak method\n",
        "print(dog.speak())  # Output: Woof!\n",
        "print(cat.speak())  # Output: Meow!"
      ],
      "metadata": {
        "colab": {
          "base_uri": "https://localhost:8080/"
        },
        "id": "G6WObb5ssR23",
        "outputId": "dd463319-45da-4ed6-f486-67641a807b13"
      },
      "execution_count": null,
      "outputs": [
        {
          "output_type": "stream",
          "name": "stdout",
          "text": [
            "Woof!\n",
            "Meow!\n"
          ]
        }
      ]
    },
    {
      "cell_type": "markdown",
      "source": [
        "## **Explanation of the Code**\n",
        "\n",
        "  1.  **Metaclass:**\n",
        "\n",
        "    * The Meta metaclass overrides the __new__ method to print a message when a class is created.\n",
        "    * The MyClass class uses Meta as its metaclass.\n",
        "\n",
        "  2.  **Singleton Pattern:**\n",
        "\n",
        "  * The Singleton class ensures that only one instance is created by overriding the __new__ method.\n",
        "  * Multiple instances of Singleton refer to the same object.\n",
        "\n",
        "  3.  **Factory Pattern:**\n",
        "\n",
        "  * The Animal class defines the interface for all animal products.\n",
        "  * The Dog and Cat classes are concrete implementations of Animal.\n",
        "  * The AnimalFactory class provides a method (create_animal) to create instances of Dog or Cat based on the input."
      ],
      "metadata": {
        "id": "M474vOwhsbEH"
      }
    },
    {
      "cell_type": "markdown",
      "source": [
        "## **Key Takeaways**\n",
        "\n",
        "  * **Metaclasses** control the behavior of class creation. You can use them to customize how classes are created and initialized.\n",
        "\n",
        "  * The **Singleton pattern** ensures that a class has only one instance and provides a global point of access to it.\n",
        "\n",
        "  * The **Factory pattern** provides a way to create objects without specifying the exact class of the object that will be created.\n",
        "  * These advanced OOP concepts are useful for managing complex systems and promoting code reusability and flexibility.\n",
        "\n",
        "  \n",
        "This example demonstrates how to implement advanced OOP concepts in Python effectively. 🚀"
      ],
      "metadata": {
        "id": "NNTSlXTgs6Z-"
      }
    },
    {
      "cell_type": "markdown",
      "source": [
        "# **17. Error Handling in OOP**\n",
        "\n",
        "Error handling is a critical aspect of writing robust and reliable code. In Object-Oriented Programming (OOP), you can handle errors by raising exceptions in methods and creating custom exceptions to represent specific error conditions in your application."
      ],
      "metadata": {
        "id": "mB000GdktcIm"
      }
    },
    {
      "cell_type": "markdown",
      "source": [
        "## **Raising Exceptions in Methods**\n",
        "\n",
        "In Python, you can raise exceptions using the raise keyword. This is useful for signaling that an error has occurred in a method."
      ],
      "metadata": {
        "id": "dItVT21Mv5AZ"
      }
    },
    {
      "cell_type": "markdown",
      "source": [
        "## **Custom Exceptions in Classes**\n",
        "\n",
        "Custom exceptions are user-defined exceptions that inherit from Python’s built-in Exception class. They allow you to define specific error types for your application."
      ],
      "metadata": {
        "id": "za1bkptAv_3Q"
      }
    },
    {
      "cell_type": "markdown",
      "source": [
        "## **Example: Handling Errors in OOP**\n",
        "\n",
        "Let’s create a BankAccount class to demonstrate error handling in OOP. We’ll raise exceptions for invalid operations and define a custom exception for insufficient funds."
      ],
      "metadata": {
        "id": "2TmeByGVwEto"
      }
    },
    {
      "cell_type": "markdown",
      "source": [
        "## **Code Example**"
      ],
      "metadata": {
        "id": "bi9pZk8IwN01"
      }
    },
    {
      "cell_type": "code",
      "source": [
        "# Custom exception for insufficient funds\n",
        "class InsufficientFundsError(Exception):\n",
        "    def __init__(self, balance, amount):\n",
        "        super().__init__(f\"Insufficient funds: balance is {balance}, but {amount} was requested.\")\n",
        "        self.balance = balance\n",
        "        self.amount = amount\n",
        "\n",
        "# BankAccount class\n",
        "class BankAccount:\n",
        "    def __init__(self, account_holder, balance=0):\n",
        "        self.account_holder = account_holder\n",
        "        self.balance = balance\n",
        "\n",
        "    # Method to deposit money\n",
        "    def deposit(self, amount):\n",
        "        if amount <= 0:\n",
        "            raise ValueError(\"Deposit amount must be positive.\")\n",
        "        self.balance += amount\n",
        "        print(f\"Deposited {amount}. New balance: {self.balance}\")\n",
        "\n",
        "    # Method to withdraw money\n",
        "    def withdraw(self, amount):\n",
        "        if amount <= 0:\n",
        "            raise ValueError(\"Withdrawal amount must be positive.\")\n",
        "        if self.balance < amount:\n",
        "            raise InsufficientFundsError(self.balance, amount)\n",
        "        self.balance -= amount\n",
        "        print(f\"Withdrew {amount}. New balance: {self.balance}\")\n",
        "\n",
        "    # Method to display account details\n",
        "    def display(self):\n",
        "        print(f\"Account Holder: {self.account_holder}, Balance: {self.balance}\")\n",
        "\n",
        "# Create a BankAccount instance\n",
        "account = BankAccount(\"Alice\", 1000)\n",
        "\n",
        "# Deposit money\n",
        "try:\n",
        "    account.deposit(500)  # Output: Deposited 500. New balance: 1500\n",
        "except ValueError as e:\n",
        "    print(e)\n",
        "\n",
        "# Withdraw money\n",
        "try:\n",
        "    account.withdraw(2000)  # Raises InsufficientFundsError\n",
        "except InsufficientFundsError as e:\n",
        "    print(e)  # Output: Insufficient funds: balance is 1500, but 2000 was requested.\n",
        "except ValueError as e:\n",
        "    print(e)\n",
        "\n",
        "# Display account details\n",
        "account.display()  # Output: Account Holder: Alice, Balance: 1500"
      ],
      "metadata": {
        "colab": {
          "base_uri": "https://localhost:8080/"
        },
        "id": "pocrplPDwRa9",
        "outputId": "38478dcd-79ff-4eba-aa68-dca9f1d19ad6"
      },
      "execution_count": null,
      "outputs": [
        {
          "output_type": "stream",
          "name": "stdout",
          "text": [
            "Deposited 500. New balance: 1500\n",
            "Insufficient funds: balance is 1500, but 2000 was requested.\n",
            "Account Holder: Alice, Balance: 1500\n"
          ]
        }
      ]
    },
    {
      "cell_type": "markdown",
      "source": [
        "## **Explanation of the Code**\n",
        "\n",
        "1.  **Custom Exception (InsufficientFundsError):**\n",
        "\n",
        "    * Inherits from Python’s Exception class.\n",
        "\n",
        "    * Includes a custom error message that displays the account balance and the requested withdrawal amount.\n",
        "\n",
        "2.  **BankAccount Class:**\n",
        "\n",
        "    * deposit method: Raises a ValueError if the deposit amount is not positive.\n",
        "\n",
        "    * withdraw method: Raises a ValueError if the withdrawal amount is not positive and raises InsufficientFundsError if the balance is insufficient.\n",
        "    * display method: Prints the account holder’s name and balance.\n",
        "\n",
        "3.  **Error Handling:**\n",
        "\n",
        "    * The try and except blocks are used to catch and handle exceptions raised by the deposit and withdraw methods."
      ],
      "metadata": {
        "id": "lMuUESHEwq3z"
      }
    },
    {
      "cell_type": "markdown",
      "source": [
        "## **Key Takeaways**\n",
        "\n",
        "  * **Raising exceptions** is a way to signal errors in methods.\n",
        "  * **Custom exceptions** allow you to define specific error types for your application.\n",
        "  * Use try and except blocks to handle exceptions gracefully.\n",
        "  * Error handling in OOP ensures that your program can recover from unexpected situations and provide meaningful feedback to users.\n",
        "\n",
        "  \n",
        "This example demonstrates how to handle errors in Python OOP effectively. 🚀"
      ],
      "metadata": {
        "id": "GAwnsAuXxjaa"
      }
    },
    {
      "cell_type": "markdown",
      "source": [
        "# **18. Testing OOP Code**\n",
        "\n",
        "Testing is a critical part of software development, especially when working with Object-Oriented Programming (OOP). It ensures that your classes and methods behave as expected. Python provides libraries like unittest and pytest for writing and running tests."
      ],
      "metadata": {
        "id": "OIwbXoSbx-Wj"
      }
    },
    {
      "cell_type": "markdown",
      "source": [
        "## **Unit Testing Classes and Methods**\n",
        "\n",
        "**Unit testing** involves testing individual components (e.g., classes and methods) in isolation to ensure they work correctly."
      ],
      "metadata": {
        "id": "5tvqB7NdyE2q"
      }
    },
    {
      "cell_type": "markdown",
      "source": [
        "## **Using unittest or pytest**\n",
        "\n",
        "  * **unittest:** Python’s built-in testing framework, inspired by Java’s JUnit.\n",
        "  * **pytest:** A popular third-party testing framework that is more flexible and easier to use than unittest."
      ],
      "metadata": {
        "id": "8dhMPDV9yKp6"
      }
    },
    {
      "cell_type": "markdown",
      "source": [
        "## **Example: Writing Test Cases for OOP Code**\n",
        "\n",
        "Let’s create a simple Calculator class and write unit tests for it using both unittest and pytest."
      ],
      "metadata": {
        "id": "LEPwY19IycIx"
      }
    },
    {
      "cell_type": "markdown",
      "source": [
        "## **Calculator Class**"
      ],
      "metadata": {
        "id": "SlZnWo79yfxR"
      }
    },
    {
      "cell_type": "code",
      "source": [
        "class Calculator:\n",
        "    def add(self, a, b):\n",
        "        return a + b\n",
        "\n",
        "    def subtract(self, a, b):\n",
        "        return a - b\n",
        "\n",
        "    def multiply(self, a, b):\n",
        "        return a * b\n",
        "\n",
        "    def divide(self, a, b):\n",
        "        if b == 0:\n",
        "            raise ValueError(\"Cannot divide by zero.\")\n",
        "        return a / b"
      ],
      "metadata": {
        "id": "wcNj0JCDyhyU"
      },
      "execution_count": null,
      "outputs": []
    },
    {
      "cell_type": "markdown",
      "source": [
        "## **Testing with unittest**"
      ],
      "metadata": {
        "id": "xf5HpZlayl6C"
      }
    },
    {
      "cell_type": "code",
      "source": [
        "import unittest\n",
        "#from calculator import Calculator\n",
        "\n",
        "class TestCalculator(unittest.TestCase):\n",
        "    def setUp(self):\n",
        "        self.calc = Calculator()\n",
        "\n",
        "    def test_add(self):\n",
        "        self.assertEqual(self.calc.add(2, 3), 5)\n",
        "\n",
        "    def test_subtract(self):\n",
        "        self.assertEqual(self.calc.subtract(5, 3), 2)\n",
        "\n",
        "    def test_multiply(self):\n",
        "        self.assertEqual(self.calc.multiply(2, 3), 6)\n",
        "\n",
        "    def test_divide(self):\n",
        "        self.assertEqual(self.calc.divide(6, 3), 2)\n",
        "\n",
        "    def test_divide_by_zero(self):\n",
        "        with self.assertRaises(ValueError):\n",
        "            self.calc.divide(6, 0)\n",
        "\n",
        "# Replace unittest.main() with the following to run tests in IPython:\n",
        "# if __name__ == \"__main__\":\n",
        "#     unittest.main()\n",
        "# Instead, use:\n",
        "if __name__ == '__main__':\n",
        "    unittest.main(argv=['first-arg-is-ignored'], exit=False)"
      ],
      "metadata": {
        "colab": {
          "base_uri": "https://localhost:8080/"
        },
        "id": "RtJOAJEtynQB",
        "outputId": "da0549e9-0b58-404a-d697-5d3cd1117548"
      },
      "execution_count": null,
      "outputs": [
        {
          "output_type": "stream",
          "name": "stderr",
          "text": [
            ".....\n",
            "----------------------------------------------------------------------\n",
            "Ran 5 tests in 0.011s\n",
            "\n",
            "OK\n"
          ]
        }
      ]
    },
    {
      "cell_type": "markdown",
      "source": [
        "## **Testing with pytest**"
      ],
      "metadata": {
        "id": "bhgSZAf_zWzR"
      }
    },
    {
      "cell_type": "code",
      "source": [
        "import pytest\n",
        "#from calculator import Calculator\n",
        "\n",
        "@pytest.fixture\n",
        "def calc():\n",
        "    return Calculator()\n",
        "\n",
        "def test_add(calc):\n",
        "    assert calc.add(2, 3) == 5\n",
        "\n",
        "def test_subtract(calc):\n",
        "    assert calc.subtract(5, 3) == 2\n",
        "\n",
        "def test_multiply(calc):\n",
        "    assert calc.multiply(2, 3) == 6\n",
        "\n",
        "def test_divide(calc):\n",
        "    assert calc.divide(6, 3) == 2\n",
        "\n",
        "def test_divide_by_zero(calc):\n",
        "    with pytest.raises(ValueError):\n",
        "        calc.divide(6, 0)\n",
        "\n",
        "\n",
        "#calc1 = calc()\n",
        "\n",
        "#test_add()\n",
        "# test_subtract(calc)\n",
        "# test_multiply(calc)\n",
        "# test_divide(calc)\n",
        "# test_divide_by_zero(calc)\n",
        "\n",
        "\n",
        "# Instead of directly calling test_add(), run tests using pytest\n",
        "# This will ensure that the fixture is used to provide the 'calc' argument\n",
        "if __name__ == '__main__':\n",
        "    pytest.main(['-v']) # Remove arguments to let pytest discover tests automatically"
      ],
      "metadata": {
        "colab": {
          "base_uri": "https://localhost:8080/"
        },
        "id": "mhU1f-oAzYPB",
        "outputId": "e9321214-e937-47a9-e8f3-2719cb95ecf9"
      },
      "execution_count": null,
      "outputs": [
        {
          "output_type": "stream",
          "name": "stdout",
          "text": [
            "======================================= test session starts ========================================\n",
            "platform linux -- Python 3.11.11, pytest-8.3.4, pluggy-1.5.0 -- /usr/bin/python3\n",
            "cachedir: .pytest_cache\n",
            "rootdir: /content\n",
            "plugins: typeguard-4.4.1, anyio-3.7.1, langsmith-0.3.5\n",
            "collecting ... collected 0 items\n",
            "\n",
            "====================================== no tests ran in 0.01s =======================================\n"
          ]
        }
      ]
    },
    {
      "source": [
        "!pytest -v"
      ],
      "cell_type": "code",
      "metadata": {
        "colab": {
          "base_uri": "https://localhost:8080/"
        },
        "id": "2pl9Mr9Y1hTk",
        "outputId": "149d3bff-701a-4815-a261-55832de6c979"
      },
      "execution_count": null,
      "outputs": [
        {
          "output_type": "stream",
          "name": "stdout",
          "text": [
            "\u001b[1m======================================= test session starts ========================================\u001b[0m\n",
            "platform linux -- Python 3.11.11, pytest-8.3.4, pluggy-1.5.0 -- /usr/bin/python3\n",
            "cachedir: .pytest_cache\n",
            "rootdir: /content\n",
            "plugins: typeguard-4.4.1, anyio-3.7.1, langsmith-0.3.5\n",
            "\u001b[1mcollecting ... \u001b[0m\u001b[1m\rcollected 0 items                                                                                  \u001b[0m\n",
            "\n",
            "\u001b[33m====================================== \u001b[33mno tests ran\u001b[0m\u001b[33m in 0.01s\u001b[0m\u001b[33m =======================================\u001b[0m\n"
          ]
        }
      ]
    },
    {
      "cell_type": "markdown",
      "source": [
        "## **Explanation of the Code**\n",
        "\n",
        "1.  **Calculator Class:**\n",
        "    * Implements basic arithmetic operations (add, subtract, multiply, divide).\n",
        "\n",
        "    * Raises a ValueError if division by zero is attempted.\n",
        "\n",
        "2.  **Testing with unittest:**\n",
        "\n",
        "    * The TestCalculator class inherits from unittest.TestCase.\n",
        "\n",
        "    * The setUp method initializes a Calculator instance for each test.\n",
        "    * Test methods use assertEqual to check if the actual output matches the expected output.\n",
        "    * The assertRaises method is used to test for exceptions.\n",
        "\n",
        "3.  Testing with pytest:\n",
        "\n",
        "    * The @pytest.fixture decorator is used to create a Calculator instance for each test.\n",
        "\n",
        "    * Test functions use the assert keyword to check if the actual output matches the expected output.\n",
        "    * The pytest.raises context manager is used to test for exceptions."
      ],
      "metadata": {
        "id": "xVC7InRK3zsC"
      }
    },
    {
      "cell_type": "markdown",
      "source": [
        "## **Running the Tests**\n",
        "\n",
        "**Using unittest**\n",
        "\n",
        "Save the unittest code in a file (e.g., test_calculator_unittest.py) and run it:\n",
        "\n",
        "```  \n",
        "python -m unittest test_calculator_unittest.py\n",
        "```"
      ],
      "metadata": {
        "id": "twKazYNT4SpN"
      }
    },
    {
      "cell_type": "markdown",
      "source": [
        "**Using pytest**\n",
        "\n",
        "Save the pytest code in a file (e.g., test_calculator_pytest.py) and run it:"
      ],
      "metadata": {
        "id": "flAOpfG24gW2"
      }
    },
    {
      "cell_type": "markdown",
      "source": [
        "```\n",
        "pytest test_calculator_pytest.py\n",
        "```"
      ],
      "metadata": {
        "id": "4MyoVxjk4miD"
      }
    },
    {
      "cell_type": "markdown",
      "source": [
        "## **Output of the Tests**\n",
        "\n",
        "Both unittest and pytest will display the results of the tests, indicating which tests passed or failed."
      ],
      "metadata": {
        "id": "Uzeuzt0c4qo4"
      }
    },
    {
      "cell_type": "markdown",
      "source": [
        "## **Key Takeaways**\n",
        "\n",
        "  * **Unit testing** ensures that individual components (classes and methods) work as expected.\n",
        "  * **unittest** is Python’s built-in testing framework, while pytest is a more flexible third-party framework.\n",
        "  * Use assertions to check if the actual output matches the expected output.\n",
        "  * Test for exceptions using assertRaises (in unittest) or pytest.raises (in pytest).\n",
        "\n",
        "  \n",
        "This example demonstrates how to write and run unit tests for OOP code in Python effectively. 🚀"
      ],
      "metadata": {
        "id": "VBLirBsU4vzW"
      }
    },
    {
      "cell_type": "markdown",
      "source": [
        "# **19. Best Practices in OOP**\n",
        "\n",
        "Writing clean and maintainable Object-Oriented Programming (OOP) code is essential for building scalable and robust applications. Following best practices like the **SOLID** **principles** can help you achieve this. Let’s explore these principles and how to apply them in Python."
      ],
      "metadata": {
        "id": "bfnOopKO5ks4"
      }
    },
    {
      "cell_type": "markdown",
      "source": [
        "## **SOLID Principles in Python**\n",
        "\n",
        "The **SOLID principles** are a set of five design principles that help developers write maintainable and scalable code. They are:\n",
        "\n",
        "1.  **Single Responsibility Principle (SRP):**\n",
        "\n",
        "    A class should have only one reason to change, meaning it should have only one responsibility.\n",
        "\n",
        "2.  **Open/Closed Principle (OCP):**\n",
        "\n",
        "    A class should be open for extension but closed for modification. You should be able to add new functionality without changing existing code.\n",
        "\n",
        "3.  **Liskov Substitution Principle (LSP):**\n",
        "\n",
        "    Objects of a superclass should be replaceable with objects of a subclass without affecting the correctness of the program.\n",
        "\n",
        "4.  **Interface Segregation Principle (ISP):**\n",
        "\n",
        "    Clients should not be forced to depend on interfaces they do not use. Instead of one large interface, create smaller, specific ones.\n",
        "\n",
        "5.  **Dependency Inversion Principle (DIP):**\n",
        "\n",
        "    High-level modules should not depend on low-level modules. Both should depend on abstractions. Abstractions should not depend on details. Details should depend on abstractions."
      ],
      "metadata": {
        "id": "cC8-8WTM6AL8"
      }
    },
    {
      "cell_type": "markdown",
      "source": [
        "## **Example: Applying SOLID Principles**\n",
        "\n",
        "Let’s create a Python example to demonstrate how to apply these principles."
      ],
      "metadata": {
        "id": "Qj4tBp-h6g2c"
      }
    },
    {
      "cell_type": "markdown",
      "source": [
        "## **Single Responsibility Principle (SRP)**"
      ],
      "metadata": {
        "id": "lRRVeQ8V6mIf"
      }
    },
    {
      "cell_type": "code",
      "source": [
        "# Bad: One class with multiple responsibilities\n",
        "class Report:\n",
        "    def generate_report(self, data):\n",
        "        # Generate report\n",
        "        pass\n",
        "\n",
        "    def save_report(self, file_path):\n",
        "        # Save report to file\n",
        "        pass\n",
        "\n",
        "# Good: Separate responsibilities into different classes\n",
        "class ReportGenerator:\n",
        "    def generate_report(self, data):\n",
        "        # Generate report\n",
        "        pass\n",
        "\n",
        "class ReportSaver:\n",
        "    def save_report(self, report, file_path):\n",
        "        # Save report to file\n",
        "        pass"
      ],
      "metadata": {
        "id": "_pncAU_56oDU"
      },
      "execution_count": null,
      "outputs": []
    },
    {
      "cell_type": "markdown",
      "source": [
        "## **Open/Closed Principle (OCP)**"
      ],
      "metadata": {
        "id": "8DQK4jXd60vT"
      }
    },
    {
      "cell_type": "code",
      "source": [
        "# Bad: Modify existing code to add new functionality\n",
        "class AreaCalculator:\n",
        "    def calculate_area(self, shape):\n",
        "        if shape.type == \"circle\":\n",
        "            return 3.14 * shape.radius ** 2\n",
        "        elif shape.type == \"rectangle\":\n",
        "            return shape.length * shape.width\n",
        "\n",
        "# Good: Extend functionality without modifying existing code\n",
        "from abc import ABC, abstractmethod\n",
        "\n",
        "class Shape(ABC):\n",
        "    @abstractmethod\n",
        "    def area(self):\n",
        "        pass\n",
        "\n",
        "class Circle(Shape):\n",
        "    def __init__(self, radius):\n",
        "        self.radius = radius\n",
        "\n",
        "    def area(self):\n",
        "        return 3.14 * self.radius ** 2\n",
        "\n",
        "class Rectangle(Shape):\n",
        "    def __init__(self, length, width):\n",
        "        self.length = length\n",
        "        self.width = width\n",
        "\n",
        "    def area(self):\n",
        "        return self.length * self.width\n",
        "\n",
        "class AreaCalculator:\n",
        "    def calculate_area(self, shape):\n",
        "        return shape.area()"
      ],
      "metadata": {
        "id": "ow58huBM62ZD"
      },
      "execution_count": null,
      "outputs": []
    },
    {
      "cell_type": "markdown",
      "source": [
        "## **Liskov Substitution Principle (LSP)**"
      ],
      "metadata": {
        "id": "4WVlHn017bUa"
      }
    },
    {
      "cell_type": "code",
      "source": [
        "# Bad: Subclass changes the behavior of the parent class\n",
        "class Bird:\n",
        "    def fly(self):\n",
        "        pass\n",
        "\n",
        "class Ostrich(Bird):\n",
        "    def fly(self):\n",
        "        raise NotImplementedError(\"Ostriches can't fly\")\n",
        "\n",
        "# Good: Subclass adheres to the behavior of the parent class\n",
        "class Bird:\n",
        "    def move(self):\n",
        "        pass\n",
        "\n",
        "class Sparrow(Bird):\n",
        "    def move(self):\n",
        "        print(\"Flying\")\n",
        "\n",
        "class Ostrich(Bird):\n",
        "    def move(self):\n",
        "        print(\"Running\")"
      ],
      "metadata": {
        "id": "NnkfuUSW7dRS"
      },
      "execution_count": null,
      "outputs": []
    },
    {
      "cell_type": "markdown",
      "source": [
        "## **Interface Segregation Principle (ISP)**"
      ],
      "metadata": {
        "id": "s_WhARTp7-cj"
      }
    },
    {
      "cell_type": "code",
      "source": [
        "# Bad: One large interface\n",
        "class Printer:\n",
        "    def print_document(self):\n",
        "        pass\n",
        "\n",
        "    def scan_document(self):\n",
        "        pass\n",
        "\n",
        "    def fax_document(self):\n",
        "        pass\n",
        "\n",
        "# Good: Smaller, specific interfaces\n",
        "class Printer:\n",
        "    def print_document(self):\n",
        "        pass\n",
        "\n",
        "class Scanner:\n",
        "    def scan_document(self):\n",
        "        pass\n",
        "\n",
        "class FaxMachine:\n",
        "    def fax_document(self):\n",
        "        pass"
      ],
      "metadata": {
        "id": "ru_mU5Ns8BJq"
      },
      "execution_count": null,
      "outputs": []
    },
    {
      "cell_type": "markdown",
      "source": [
        "## **Dependency Inversion Principle (DIP)**"
      ],
      "metadata": {
        "id": "2KSJ-lT_8ESa"
      }
    },
    {
      "cell_type": "markdown",
      "source": [
        "``` python\n",
        "# Bad: High-level module depends on low-level module\n",
        "class LightBulb:\n",
        "    def turn_on(self):\n",
        "        pass\n",
        "\n",
        "    def turn_off(self):\n",
        "        pass\n",
        "\n",
        "class Switch:\n",
        "    def __init__(self):\n",
        "        self.bulb = LightBulb()\n",
        "\n",
        "    def operate(self):\n",
        "        if condition:\n",
        "            self.bulb.turn_on()\n",
        "        else:\n",
        "            self.bulb.turn_off()\n",
        "\n",
        "# Good: Both depend on abstractions\n",
        "from abc import ABC, abstractmethod\n",
        "\n",
        "class Switchable(ABC):\n",
        "    @abstractmethod\n",
        "    def turn_on(self):\n",
        "        pass\n",
        "\n",
        "    @abstractmethod\n",
        "    def turn_off(self):\n",
        "        pass\n",
        "\n",
        "class LightBulb(Switchable):\n",
        "    def turn_on(self):\n",
        "        pass\n",
        "\n",
        "    def turn_off(self):\n",
        "        pass\n",
        "\n",
        "class Switch:\n",
        "    def __init__(self, device: Switchable):\n",
        "        self.device = device\n",
        "\n",
        "    def operate(self):\n",
        "        if condition:\n",
        "            self.device.turn_on()\n",
        "        else:\n",
        "            self.device.turn_off()\n",
        "```"
      ],
      "metadata": {
        "id": "djbGFOql8nAy"
      }
    },
    {
      "cell_type": "markdown",
      "source": [
        "## **Key Takeaways**\n",
        "\n",
        "  * **Single Responsibility Principle (SRP):** Each class should have only one responsibility.\n",
        "\n",
        "  * **Open/Closed Principle (OCP):** Classes should be open for extension but closed for modification.\n",
        "\n",
        "  * **Liskov Substitution Principle (LSP):** Subclasses should be substitutable for their superclasses.\n",
        "\n",
        "  * **Interface Segregation Principle (ISP):** Use smaller, specific interfaces instead of one large interface.\n",
        "  * **Dependency Inversion Principle (DIP):** High-level and low-level modules should depend on abstractions.\n",
        "\n",
        "\n",
        "By applying these **SOLID principles**, you can write clean, maintainable, and scalable OOP code in Python. 🚀\n",
        "\n",
        "**Further resources:**\n",
        "\n",
        "[SOLID principles: realpython.com](https://realpython.com/solid-principles-python/)\n",
        "\n",
        "[SOLID principles: github.io](https://yakhyo.github.io/solid-python/)"
      ],
      "metadata": {
        "id": "sj1GaGvp8whJ"
      }
    },
    {
      "cell_type": "markdown",
      "source": [
        "# **20. Iterable**"
      ],
      "metadata": {
        "id": "AJrmBy8pgzSO"
      }
    },
    {
      "cell_type": "markdown",
      "source": [
        "In Python, Iterable is not a parent class but rather an abstract base class (ABC) defined in the collections.abc module. It serves as a protocol or interface that other classes can implement to indicate that they are iterable (i.e., they can be looped over using a for loop or other iteration constructs).\n",
        "\n",
        "## **What is an Iterable?**\n",
        "\n",
        "An iterable is any object that can return an iterator when the iter() function is called on it. The iterator is used to traverse through the elements of the iterable.\n",
        "\n",
        "## **Parent Class Relationship**\n",
        "\n",
        "The Iterable abstract base class is not a parent class in the traditional sense (like inheritance in object-oriented programming). Instead, it is used to define a protocol that other classes can adhere to by implementing the __iter__() method.\n"
      ],
      "metadata": {
        "id": "kFvkPBs1g9aB"
      }
    },
    {
      "cell_type": "markdown",
      "source": [
        "## **Example of Iterable Classes**\n",
        "\n",
        "Many built-in Python classes are iterable because they implement the __iter__() method. These include:\n",
        "\n",
        "1.  **Lists**: list\n",
        "2.  **Tuples**: tuple\n",
        "3.  **Strings**: str\n",
        "4.  **Dictionaries**: dict\n",
        "5.  **Sets**: set\n",
        "6.  **Ranges**: range\n",
        "7.  **Generators**: generator\n",
        "\n",
        "<br>\n",
        "\n",
        "## **How to Check if a Class is Iterable**\n",
        "\n",
        "You can use the isinstance() function with collections.abc.Iterable to check if an object is iterable:"
      ],
      "metadata": {
        "id": "h-GrGfjYhI3w"
      }
    },
    {
      "cell_type": "code",
      "source": [
        "from collections.abc import Iterable\n",
        "\n",
        "# Check if built-in types are iterable\n",
        "print(\"isinstance([1, 2, 3], Iterable) = \",isinstance([1, 2, 3], Iterable))  # True (list is iterable)\n",
        "print('isinstance(\"hello\", Iterable)   = ', isinstance(\"hello\", Iterable))    # True (string is iterable)\n",
        "print(\"isinstance(123, Iterable)       = \", isinstance(123, Iterable))        # False (integer is not iterable)"
      ],
      "metadata": {
        "colab": {
          "base_uri": "https://localhost:8080/"
        },
        "id": "9ybe-M8shdPw",
        "outputId": "b450b6b8-4f5e-4545-db1b-e9cccb0cdc28"
      },
      "execution_count": null,
      "outputs": [
        {
          "output_type": "stream",
          "name": "stdout",
          "text": [
            "isinstance([1, 2, 3], Iterable) =  True\n",
            "isinstance(\"hello\", Iterable)   =  True\n",
            "isinstance(123, Iterable)       =  False\n"
          ]
        }
      ]
    },
    {
      "cell_type": "markdown",
      "source": [
        "## **How to Make a Custom Class Iterable**\n",
        "\n",
        "To make a custom class iterable, you need to implement the __iter__() method, which should return an iterator object. The iterator object must implement the __next__() method.\n",
        "\n",
        "## **Example:**"
      ],
      "metadata": {
        "id": "KZxNI4OQhh5w"
      }
    },
    {
      "cell_type": "code",
      "source": [
        "from collections.abc import Iterable, Iterator\n",
        "\n",
        "class MyIterable(Iterable):\n",
        "    def __init__(self, data):\n",
        "        self.data = data\n",
        "\n",
        "    def __iter__(self):\n",
        "        return MyIterator(self.data)\n",
        "\n",
        "class MyIterator(Iterator):\n",
        "    def __init__(self, data):\n",
        "        self.data = data\n",
        "        self.index = 0\n",
        "\n",
        "    def __next__(self):\n",
        "        if self.index >= len(self.data):\n",
        "            raise StopIteration\n",
        "        value = self.data[self.index]\n",
        "        self.index += 1\n",
        "        print(\"Called: MyIterator.__next__\")\n",
        "        return value\n",
        "\n",
        "# Usage\n",
        "my_iterable = MyIterable([1, 2, 3])\n",
        "for item in my_iterable:\n",
        "    print(\"item : \",item)  # Output: 1, 2, 3"
      ],
      "metadata": {
        "colab": {
          "base_uri": "https://localhost:8080/"
        },
        "id": "Him3BqMrh7CA",
        "outputId": "f9b01be2-5200-4bba-cd12-a3c0478f9dda"
      },
      "execution_count": null,
      "outputs": [
        {
          "output_type": "stream",
          "name": "stdout",
          "text": [
            "Called: MyIterator.__next__\n",
            "item :  1\n",
            "Called: MyIterator.__next__\n",
            "item :  2\n",
            "Called: MyIterator.__next__\n",
            "item :  3\n"
          ]
        }
      ]
    },
    {
      "cell_type": "markdown",
      "source": [
        "## **Key Points**\n",
        "\n",
        "* Iterable is an abstract base class (ABC) from the collections.abc module.\n",
        "\n",
        "* It defines a protocol for iterable objects by requiring the implementation of the __iter__() method.\n",
        "* Many built-in Python classes (e.g., list, tuple, str, dict) are iterable because they implement this protocol.\n",
        "* Custom classes can be made iterable by implementing the __iter__() method."
      ],
      "metadata": {
        "id": "O0ZJLQHdixKx"
      }
    },
    {
      "cell_type": "markdown",
      "source": [
        "# **Object-Based Language vs. Object-Oriented Language**"
      ],
      "metadata": {
        "id": "dQGGiPmudbQN"
      }
    },
    {
      "cell_type": "markdown",
      "source": [
        "## **Object-Based Language**\n",
        "\n",
        "  * **Definition**: A language that supports objects (data structures with attributes and methods) and encapsulation (data hiding), but lacks key OOP features like inheritance and polymorphism.\n",
        "  * **Features**:\n",
        "    * Objects as instances with properties and methods.\n",
        "    * Encapsulation (e.g., public/private access modifiers).\n",
        "    * May include basic polymorphism (e.g., operator overloading).\n",
        "  * Examples: JavaScript (prototype-based, but lacks classical inheritance), classic Visual Basic, Ada."
      ],
      "metadata": {
        "id": "M5-z-Jz9dgB2"
      }
    },
    {
      "cell_type": "markdown",
      "source": [
        "## **Object-Oriented Language**\n",
        "\n",
        "  * **Definition**: A language that implements the four pillars of OOP:\n",
        "    1.  **Encapsulation**: Hiding internal state and requiring interaction via methods.\n",
        "    2.  **Inheritance**: Creating hierarchical relationships between classes (e.g., subclasses reusing parent class code).\n",
        "    3.  **Polymorphism**: Allowing objects of different classes to respond to the same method (via inheritance or interfaces).\n",
        "    4.  **Abstraction**: Simplifying complexity through abstract classes/interfaces.\n",
        "\n",
        "  * Examples: Python, Java, C++, C#."
      ],
      "metadata": {
        "id": "RUDyR5qldyg-"
      }
    },
    {
      "cell_type": "markdown",
      "source": [
        "# **The Python's Object-Centric Nature**"
      ],
      "metadata": {
        "id": "DRDYhz5VeLok"
      }
    },
    {
      "cell_type": "markdown",
      "source": [
        "# **Is Everything in Python an Object? YES!**\n",
        "\n",
        "**Yes, in Python, absolutely everything is an object. This is a fundamental characteristic of the language and a core design principle.**\n",
        "\n",
        "  * **Numbers**: Integers, floats, complex numbers are objects.\n",
        "  * **Strings**: Textual data is represented as string objects.\n",
        "  * **Lists**, Tuples, Dictionaries, Sets: These are built-in container types and are all objects.\n",
        "  * **Functions**: Functions are first-class objects in Python. You can assign them to variables, pass them as arguments to other functions, and even return them from functions.\n",
        "  * **Classes and Modules**: Classes themselves are objects (instances of metaclasses), and modules are also objects.\n",
        "  * **Even None**: None, which represents the absence of a value, is an object of the NoneType class.\n",
        "  * **Types/Classes**: In Python, types (like int, str, list) are also objects (they are instances of the metaclass type).\n",
        "\n",
        "\n",
        "## **How to Verify:**\n",
        "\n",
        "You can use the type() function in Python to check the type of any entity. It will always return a class (which is itself an object)."
      ],
      "metadata": {
        "id": "yXVSTiwqeWay"
      }
    },
    {
      "cell_type": "markdown",
      "source": [
        "``` python\n",
        ">>> type(5)\n",
        "<class 'int'>\n",
        ">>> type(\"hello\")\n",
        "<class 'str'>\n",
        ">>> type([1, 2, 3])\n",
        "<class 'list'>\n",
        ">>> def my_function():\n",
        "...     pass\n",
        ">>> type(my_function)\n",
        "<class 'function'>\n",
        ">>> class MyClass:\n",
        "...     pass\n",
        ">>> obj = MyClass()\n",
        ">>> type(MyClass)\n",
        "<class 'type'>  # Classes are instances of 'type' (metaclass)\n",
        ">>> type(obj)\n",
        "<class '__main__.MyClass'>\n",
        "\n",
        "```"
      ],
      "metadata": {
        "id": "Kafip9bifCR2"
      }
    },
    {
      "cell_type": "markdown",
      "source": [
        "## **Why is this important in Python?**\n",
        "\n",
        "  * **Consistency**: It creates a consistent and unified way to work with data and code. Everything behaves like an object, leading to a more predictable programming model.\n",
        "  \n",
        "  * **Flexibility**: Because functions and classes are objects, Python is highly dynamic and allows for powerful meta-programming techniques. You can inspect, modify, and create objects dynamically at runtime.\n",
        "  * **Object-Oriented Programming**: This \"everything is an object\" nature is foundational to Python's object-oriented features. It makes it natural to work with classes, inheritance, and polymorphism, as all entities are treated as objects."
      ],
      "metadata": {
        "id": "7L8AdoKRfQCT"
      }
    },
    {
      "cell_type": "markdown",
      "source": [
        "## **In summary:**\n",
        "\n",
        "  * Object-based languages provide objects and some basic object-related features but lack the full suite of OOP principles.\n",
        "\n",
        "  * Object-oriented languages fully embrace OOP by incorporating classes, encapsulation, abstraction, inheritance, and polymorphism, leading to better software design and organization.\n",
        "  * **Python is a fully object-oriented language where everything is an object**, contributing to its flexibility, consistency, and power."
      ],
      "metadata": {
        "id": "M-uvnOVQfgJW"
      }
    }
  ]
}