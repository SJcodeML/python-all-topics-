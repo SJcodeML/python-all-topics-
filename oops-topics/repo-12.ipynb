{
 "cells": [
  {
   "cell_type": "markdown",
   "id": "824ee31b",
   "metadata": {},
   "source": [
    "repo -12 link :https://github.com/panaversity/learn-modern-ai-python/blob/main/00_python_colab/12_traditional_oop_part_1/Agentic_AI_Traditional_Python_Lesson_12_OOP_Objects_%26_Classes_Part_1.ipynb\n"
   ]
  },
  {
   "cell_type": "code",
   "execution_count": null,
   "id": "6c58315c",
   "metadata": {},
   "outputs": [],
   "source": []
  }
 ],
 "metadata": {
  "language_info": {
   "name": "python"
  }
 },
 "nbformat": 4,
 "nbformat_minor": 5
}
