{
 "cells": [
  {
   "cell_type": "code",
   "execution_count": null,
   "id": "2724aa10",
   "metadata": {
    "vscode": {
     "languageId": "plaintext"
    }
   },
   "outputs": [],
   "source": [
    "fiel =open(\"miss-sidra.txt\" , \"w\")"
   ]
  },
  {
   "cell_type": "code",
   "execution_count": null,
   "id": "3c7c123f",
   "metadata": {
    "vscode": {
     "languageId": "plaintext"
    }
   },
   "outputs": [],
   "source": []
  }
 ],
 "metadata": {
  "language_info": {
   "name": "python"
  }
 },
 "nbformat": 4,
 "nbformat_minor": 5
}
